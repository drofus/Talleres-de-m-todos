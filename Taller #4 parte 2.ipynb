{
 "cells": [
  {
   "cell_type": "code",
   "execution_count": 1,
   "metadata": {},
   "outputs": [
    {
     "name": "stdout",
     "output_type": "stream",
     "text": [
      "Populating the interactive namespace from numpy and matplotlib\n"
     ]
    }
   ],
   "source": [
    "import numpy as np\n",
    "import matplotlib.pyplot as plt\n",
    "%pylab inline"
   ]
  },
  {
   "cell_type": "code",
   "execution_count": 2,
   "metadata": {},
   "outputs": [],
   "source": [
    "#Primero vemos la funcion\n",
    "a = 0.5\n",
    "\n",
    "def f(y):\n",
    "    return (a-1)*(y**4) + y**2 "
   ]
  },
  {
   "cell_type": "code",
   "execution_count": 3,
   "metadata": {},
   "outputs": [
    {
     "data": {
      "text/plain": [
       "[<matplotlib.lines.Line2D at 0x7efbf0d56438>]"
      ]
     },
     "execution_count": 3,
     "metadata": {},
     "output_type": "execute_result"
    },
    {
     "data": {
      "image/png": "[encoded data removed]",
      "text/plain": [
       "<matplotlib.figure.Figure at 0x7efbf0dbcd68>"
      ]
     },
     "metadata": {},
     "output_type": "display_data"
    }
   ],
   "source": [
    "#Graficar la funcion\n",
    "plt.figure(figsize=(7,7))\n",
    "x = np.linspace(-4,4,100)\n",
    "plt.ylim(-10,5)\n",
    "plt.plot(x,f(x))"
   ]
  },
  {
   "cell_type": "code",
   "execution_count": 4,
   "metadata": {},
   "outputs": [],
   "source": [
    "#Metodo de biseccion\n",
    "def dx(f,x):\n",
    "    return abs(0-f(x))\n",
    "\n",
    "def bisec(f,a,b,tol,Nmax=500):\n",
    "    n = 0\n",
    "    \n",
    "    p = dx(f,b)\n",
    "\n",
    "    while True:\n",
    "        \n",
    "        pm = (a+b)*0.5\n",
    "        \n",
    "    \n",
    "        if abs(f(pm)) < tol:\n",
    "            break\n",
    "        \n",
    "        n += 1\n",
    "        \n",
    "        if n > Nmax:\n",
    "            print (\"Nmax iter max reached\")\n",
    "            break\n",
    "    \n",
    "        if f(a)*f(pm) < 0:\n",
    "            b = pm\n",
    "        \n",
    "        if f(a)*f(pm) > 0:\n",
    "            a = pm\n",
    "    return print(\"la raíz es:\",pm)        "
   ]
  },
  {
   "cell_type": "code",
   "execution_count": 5,
   "metadata": {},
   "outputs": [],
   "source": [
    "#para el siguiente metodo necesitamos su derivada\n",
    "\n",
    "def df(y):\n",
    "    return 4*(y**3) + 2*y\n",
    "\n",
    "#Metodo de Newton-Raphson\n",
    "\n",
    "def newtonR(f,df,x0,tol,Nmax=500):\n",
    "    \n",
    "    p = dx(f,x0)\n",
    "    \n",
    "    n = 0\n",
    "    while True:\n",
    "        \n",
    "        x0 = x0 - (f(x0))/(df(x0))\n",
    "        #p = dx(f,x0)\n",
    "        if n > Nmax:\n",
    "            print (\"Nmax iter max reached\")\n",
    "            break\n",
    "        n += 1\n",
    "        if abs(f(x0)) < tol:\n",
    "            break\n",
    "    \n",
    "    return x0"
   ]
  },
  {
   "cell_type": "code",
   "execution_count": 6,
   "metadata": {},
   "outputs": [],
   "source": [
    "#Metodo de la secante\n",
    "def sec(f,x0,x1,tol,Nmax=500):\n",
    "    \n",
    "    n = 0\n",
    "    \n",
    "    p = dx(f,x1)\n",
    "    \n",
    "    while True:\n",
    "        \n",
    "        xi = x1 - f(x1)*((x1-x0)/(f(x1)-f(x0)))\n",
    "        \n",
    "        if n > Nmax:\n",
    "            print(\"Nmax iter reached\")\n",
    "            break\n",
    "        \n",
    "        n += 1\n",
    "        \n",
    "        if abs(f(xi)) < tol:\n",
    "            break\n",
    "            \n",
    "    return xi"
   ]
  },
  {
   "cell_type": "code",
   "execution_count": 93,
   "metadata": {},
   "outputs": [],
   "source": [
    "def MetRectFalsa(f,x0,x1,tol,Nmax=500):\n",
    "    n = 0\n",
    "    \n",
    "    p = dx(f,x1)\n",
    "    \n",
    "    h = x0\n",
    "    \n",
    "    j = x1\n",
    "    \n",
    "    while True:\n",
    "        \n",
    "        xr = x1 - (f(x1)*(x0-x1))/(f(x0)-f(x1))\n",
    "        \n",
    "        if n > Nmax:\n",
    "            print(\"Nmax iter reached\")\n",
    "            break\n",
    "            \n",
    "        n +=1\n",
    "        \n",
    "        if abs(f(xr)) < tol:\n",
    "            break\n",
    "            \n",
    "        if f(xr)*f(x0) < 0:\n",
    "            x1 = xr\n",
    "            \n",
    "        if f(xr)*f(x0) > 0:\n",
    "            x0 = xr\n",
    "            \n",
    "            \n",
    "        if f(xr)*f(x1) == 0:\n",
    "            print (\"la raíz es\",x1)\n",
    "       \n",
    "    \n",
    "    \n",
    "    if f(x0)*f(xr) > 0:\n",
    "        print(\"la raíz está en el intervalo\", [h,xr])\n",
    "    if f(x0)*f(xr) < 0:\n",
    "        print(\"la raíz esta en el intervalo\", [xr,j])\n",
    "            \n",
    "    return xr"
   ]
  },
  {
   "cell_type": "markdown",
   "metadata": {},
   "source": [
    "siendo -1 y 0.5 los intervalos que yo veo que se acercan mas al cero y del otro lado seria de 1 a 2. Este razonamiento para mirar las soluciones con ele metodo de biseccion"
   ]
  },
  {
   "cell_type": "code",
   "execution_count": 34,
   "metadata": {},
   "outputs": [
    {
     "name": "stdout",
     "output_type": "stream",
     "text": [
      "la raíz es: -0.0078125\n",
      "la raíz es: 1.4141845703125\n"
     ]
    }
   ],
   "source": [
    "#Las soluciones de cada uno de los metodos\n",
    "bisec(f,-0.5,0,1e-4)\n",
    "bisec(f,1,2,1e-4)"
   ]
  },
  {
   "cell_type": "markdown",
   "metadata": {},
   "source": [
    "Vemos que hay otro 0 en la gráfica que no podemos mirar por biseccion (ya que el signo en esa parte es constante) pero, si usamos el metodo de Newton-Raphson se puede encontrar. siendo este metodo el más adecuado para ese tipo de inconvenientes."
   ]
  },
  {
   "cell_type": "code",
   "execution_count": 47,
   "metadata": {},
   "outputs": [
    {
     "name": "stdout",
     "output_type": "stream",
     "text": [
      "Newton -0.0064583563864453125\n"
     ]
    }
   ],
   "source": [
    "print(\"Newton\",newtonR(f,df,-0.1,1e-4))"
   ]
  },
  {
   "cell_type": "markdown",
   "metadata": {},
   "source": [
    "Metodo de la secante tiene el \"mismo\" algoritmo que la de Newton-Raphson, solo que esta es más \"precisa\". como le podemos poner un intervalo es más exacto en cuanto mirar la raíz y como tiene el mismo \"algoritmo\" que la de N-R no nos preocupamos de algún cambio de signo. (la usaremos para mirar en la parte de la gráfica constante)"
   ]
  },
  {
   "cell_type": "code",
   "execution_count": 95,
   "metadata": {},
   "outputs": [
    {
     "name": "stdout",
     "output_type": "stream",
     "text": [
      "Nmax iter reached\n",
      "secante -0.2020512820512821\n"
     ]
    }
   ],
   "source": [
    "print(\"secante\",sec(f,-0.1,0.2,1e-4))"
   ]
  },
  {
   "cell_type": "code",
   "execution_count": 94,
   "metadata": {},
   "outputs": [
    {
     "name": "stdout",
     "output_type": "stream",
     "text": [
      "la raíz está en el intervalo [-3, 1.4142443080920581]\n",
      "Recta falsa 1.4142443080920581\n"
     ]
    }
   ],
   "source": [
    "print(\"Recta falsa\",MetRectFalsa(f,-3,2.5,1e-4))"
   ]
  },
  {
   "cell_type": "markdown",
   "metadata": {},
   "source": [
    "# Explicacion fisica\n",
    "Ahora que comprendemos como funciona $\\gamma$ miremos que $t' = \\gamma(t\\frac{vx}{c^2})$, esto quiere decir que mi $\\gamma$ debe ser positiva, ya que si $\\gamma < 0$ quiere decir que habra un $t' < 0$ y los tiempos negativos no existen, ahora si mi $\\gamma = 0$ me estan diciendo que simplemente no se está moviendo el gas. por eso mi raíz debe ser positiva, para que tenga una realidad física"
   ]
  },
  {
   "cell_type": "code",
   "execution_count": null,
   "metadata": {},
   "outputs": [],
   "source": []
  }
 ],
 "metadata": {
  "kernelspec": {
   "display_name": "Python 3",
   "language": "python",
   "name": "python3"
  },
  "language_info": {
   "codemirror_mode": {
    "name": "ipython",
    "version": 3
   },
   "file_extension": ".py",
   "mimetype": "text/x-python",
   "name": "python",
   "nbconvert_exporter": "python",
   "pygments_lexer": "ipython3",
   "version": "3.6.4"
  }
 },
 "nbformat": 4,
 "nbformat_minor": 2
}
