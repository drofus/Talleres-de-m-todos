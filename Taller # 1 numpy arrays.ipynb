{
 "cells": [
  {
   "cell_type": "markdown",
   "metadata": {},
   "source": [
    "# 1.)  usando las ventajas de numpy"
   ]
  },
  {
   "cell_type": "code",
   "execution_count": 2,
   "metadata": {},
   "outputs": [
    {
     "name": "stdout",
     "output_type": "stream",
     "text": [
      "ingrese número para dx0.1\n",
      "ingrese cantidad de datos5\n"
     ]
    },
    {
     "name": "stderr",
     "output_type": "stream",
     "text": [
      "/home/ssy/anaconda3/lib/python3.6/site-packages/ipykernel_launcher.py:10: DeprecationWarning: object of type <class 'float'> cannot be safely interpreted as an integer.\n",
      "  # Remove the CWD from sys.path while we load stuff.\n"
     ]
    },
    {
     "data": {
      "text/plain": [
       "(array([5]),\n",
       " array([[ 0.        ,  0.10204082,  0.20408163,  0.30612245,  0.40816327,\n",
       "          0.51020408,  0.6122449 ,  0.71428571,  0.81632653,  0.91836735,\n",
       "          1.02040816,  1.12244898,  1.2244898 ,  1.32653061,  1.42857143,\n",
       "          1.53061224,  1.63265306,  1.73469388,  1.83673469,  1.93877551,\n",
       "          2.04081633,  2.14285714,  2.24489796,  2.34693878,  2.44897959,\n",
       "          2.55102041,  2.65306122,  2.75510204,  2.85714286,  2.95918367,\n",
       "          3.06122449,  3.16326531,  3.26530612,  3.36734694,  3.46938776,\n",
       "          3.57142857,  3.67346939,  3.7755102 ,  3.87755102,  3.97959184,\n",
       "          4.08163265,  4.18367347,  4.28571429,  4.3877551 ,  4.48979592,\n",
       "          4.59183673,  4.69387755,  4.79591837,  4.89795918,  5.        ]]),\n",
       " array([[  0.00000000e+00,   1.01169962e-03,   7.73484241e-03,\n",
       "           2.50242664e-02,   5.70063562e-02,   1.07229913e-01,\n",
       "           1.78756255e-01,   2.74202998e-01,   3.95749987e-01,\n",
       "           5.45112472e-01,   7.23484686e-01,   9.31455901e-01,\n",
       "           1.16890045e+00,   1.43484298e+00,   1.72730018e+00,\n",
       "           2.04310051e+00,   2.37768370e+00,   2.72488238e+00,\n",
       "           3.07668899e+00,   3.42301152e+00,   3.75142315e+00,\n",
       "           4.04691135e+00,   4.29163379e+00,   4.46468918e+00,\n",
       "           4.54191330e+00,   4.49571154e+00,   4.29494134e+00,\n",
       "           3.90485967e+00,   3.28715248e+00,   2.40006518e+00,\n",
       "           1.19865486e+00,  -3.64812926e-01,  -2.34029841e+00,\n",
       "          -4.77922689e+00,  -7.73350576e+00,  -1.12542912e+01,\n",
       "          -1.53904760e+01,  -2.01868695e+01,  -2.56820439e+01,\n",
       "          -3.19058190e+01,  -3.88763645e+01,  -4.65969010e+01,\n",
       "          -5.50519859e+01,  -6.42033797e+01,  -7.39854948e+01,\n",
       "          -8.43004422e+01,  -9.50127039e+01,  -1.05943473e+02,\n",
       "          -1.16864726e+02,  -1.27493111e+02]]))"
      ]
     },
     "execution_count": 2,
     "metadata": {},
     "output_type": "execute_result"
    }
   ],
   "source": [
    "#!/usr/bin/env python\n",
    "#-*-coding: utf-8-*-\n",
    "\n",
    "import numpy as np\n",
    "\n",
    "dx = float(input(\"ingrese número para dx\"))\n",
    "\n",
    "i = int(input(\"ingrese cantidad de datos\"))\n",
    "\n",
    "n = np.linspace(0.0, i, i/dx)\n",
    "\n",
    "def fun(x):\n",
    "    y = np.sin(x)*np.log(1*x+1)*np.sinh(x)\n",
    "    return y\n",
    "\n",
    "resultado = np.array([i]), np.array([n]), np.array([fun(n)])\n",
    "\n",
    "resultado"
   ]
  },
  {
   "cell_type": "markdown",
   "metadata": {},
   "source": [
    "# 1.) sin usar las ventajas de numpy"
   ]
  },
  {
   "cell_type": "code",
   "execution_count": 46,
   "metadata": {},
   "outputs": [
    {
     "name": "stdout",
     "output_type": "stream",
     "text": [
      "[0.0, 0.68545165661172824, 3.6231077939066294, 1.9598356553963283, -33.239845826746333, -127.49311067713298, -109.67496431296621, 749.09042030807382, 3240.0658520882712, 3844.6615859877052, -14366.824510963215, -74390.097885684241, -111998.274315748, 245283.91631098659, 1613061.8144451873, 2946987.6672909348, -3624162.4923424888, -33560844.961893409, -72594847.771188945, 40068562.106718332, 674254036.6702224, 1705319807.3020387, -49746453.731466658, -13103515600.101971, -38607157742.287903, -15524788369.950539, 245960506830.95093, 847776355970.06958, 659652259906.58374, -4436805268992.502, -18129005443259.996, -20338374509934.973, 76122961006848.391, 378421966298076.25, 548767095092713.56, -1216790079889321.0, -7719760246773338.0, -13716819065283550.0, 17294020833207346.0, 1.5393384061337949e+17, 3.2565921448798259e+17, -1.8967492687809619e+17, -2.9978325098976568e+18, -7.4406580558596506e+18, 4.330041709050983e+17, 5.6904512001884373e+19, 1.6485349937530461e+20, 6.1741957990623158e+19, -1.0489701225515148e+21, -3.5582526099659067e+21]\n",
      "[0, 1, 2, 3, 4, 5, 6, 7, 8, 9, 10, 11, 12, 13, 14, 15, 16, 17, 18, 19, 20, 21, 22, 23, 24, 25, 26, 27, 28, 29, 30, 31, 32, 33, 34, 35, 36, 37, 38, 39, 40, 41, 42, 43, 44, 45, 46, 47, 48, 49]\n",
      "5\n"
     ]
    }
   ],
   "source": [
    "s = []\n",
    "x = []\n",
    "len_i = int(i/dx)\n",
    "for j in range(len_i):\n",
    "    s.append(fun(j))\n",
    "    x.append(j)\n",
    "\n",
    "print(s)    \n",
    "print (x)\n",
    "print (i)"
   ]
  },
  {
   "cell_type": "markdown",
   "metadata": {},
   "source": [
    "# 2.) organizando listas"
   ]
  },
  {
   "cell_type": "code",
   "execution_count": 23,
   "metadata": {},
   "outputs": [
    {
     "name": "stdout",
     "output_type": "stream",
     "text": [
      "[-56, -3, 0, 2, 23, 45]\n"
     ]
    }
   ],
   "source": [
    "lista = [45,-3,2,0,23,-56] #pueden cambiar la lista si así lo desean\n",
    "nueva_list = []\n",
    "\n",
    "while lista:\n",
    "    minimo = lista[0]   \n",
    "    for x in lista: \n",
    "        if x < minimo:\n",
    "            minimo = x\n",
    "    nueva_list.append(minimo)\n",
    "    lista.remove(minimo)    \n",
    "\n",
    "print(nueva_list)"
   ]
  },
  {
   "cell_type": "markdown",
   "metadata": {},
   "source": [
    "# 3.) serie de Taylor"
   ]
  },
  {
   "cell_type": "code",
   "execution_count": 32,
   "metadata": {},
   "outputs": [
    {
     "name": "stdout",
     "output_type": "stream",
     "text": [
      "ingrese grado(en radianes) para comprobar la serie1\n",
      "ingrese el n para la serie5\n",
      "0.5403025793650793\n",
      "Resultado usando numpy 0.540302305868\n"
     ]
    }
   ],
   "source": [
    "def factorial(x): \n",
    "    factorial = 1 \n",
    "    while (x >1):\n",
    "        factorial = factorial * x \n",
    "        x = x - 1                  \n",
    "    return factorial                \n",
    "\n",
    "grado = float(input(\"ingrese grado(en radianes) para comprobar la serie\"))\n",
    "\n",
    "repeticiones = int(input(\"ingrese el n para la serie\"))\n",
    "\n",
    "sumatoria = 1.0\n",
    "contador = 0.0\n",
    "coseno = 0.0\n",
    "cosenofinal = 0.0\n",
    "\n",
    "while(contador < repeticiones):\n",
    "    dividendo = float((grado**(2*contador)))\n",
    "    divisor = float((factorial(2*contador)))\n",
    "    sumatoria = float((dividendo/divisor))\n",
    "    contador = contador+1\n",
    "    if (contador % 2 == 0):\n",
    "        coseno += sumatoria\n",
    "    else:\n",
    "        coseno -= sumatoria\n",
    "            \n",
    "        \n",
    "cosenofinal= (coseno*(-1))\n",
    "\n",
    "print(cosenofinal)\n",
    "\n",
    "print(\"Resultado usando numpy\", np.cos(grado))"
   ]
  },
  {
   "cell_type": "code",
   "execution_count": null,
   "metadata": {
    "collapsed": true
   },
   "outputs": [],
   "source": []
  }
 ],
 "metadata": {
  "kernelspec": {
   "display_name": "Python 3",
   "language": "python",
   "name": "python3"
  },
  "language_info": {
   "codemirror_mode": {
    "name": "ipython",
    "version": 3
   },
   "file_extension": ".py",
   "mimetype": "text/x-python",
   "name": "python",
   "nbconvert_exporter": "python",
   "pygments_lexer": "ipython3",
   "version": "3.6.3"
  }
 },
 "nbformat": 4,
 "nbformat_minor": 2
}
