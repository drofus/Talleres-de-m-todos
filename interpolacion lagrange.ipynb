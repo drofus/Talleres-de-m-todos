{
 "cells": [
  {
   "cell_type": "code",
   "execution_count": 1,
   "metadata": {},
   "outputs": [
    {
     "name": "stdout",
     "output_type": "stream",
     "text": [
      "Populating the interactive namespace from numpy and matplotlib\n"
     ]
    }
   ],
   "source": [
    "import numpy as np\n",
    "from scipy.interpolate import lagrange\n",
    "import matplotlib.pyplot as plt\n",
    "%pylab inline"
   ]
  },
  {
   "cell_type": "code",
   "execution_count": 2,
   "metadata": {},
   "outputs": [],
   "source": [
    "xp = np.array([10,30,60,90]) #Temperatura\n",
    "x = np.array([0,21.1,37.8,54.4,71.1,87.8,100])#Temperatura\n",
    "y = np.array([1.79,1.13,0.696,0.519,0.338,0.321,0.296]) #viscosidad\n"
   ]
  },
  {
   "cell_type": "code",
   "execution_count": 168,
   "metadata": {},
   "outputs": [],
   "source": [
    "#interpolacion de lagrange\n",
    "def lagrange2(xp,x,y):\n",
    "    M = len(x)\n",
    "    \n",
    "    p = 0\n",
    "    \n",
    "    for i in range(M):\n",
    "        \n",
    "        pt = y[i]\n",
    "\n",
    "        for j in range(M):\n",
    "            \n",
    "            if i == j:\n",
    "                continue\n",
    "                \n",
    "            fac = x[i]-x[j]\n",
    "            \n",
    "            pt *= (xp-x[j])/fac\n",
    "            \n",
    "        p += pt*y[i]\n",
    "        \n",
    "        return p"
   ]
  },
  {
   "cell_type": "code",
   "execution_count": 169,
   "metadata": {},
   "outputs": [
    {
     "data": {
      "text/plain": [
       "array([ 0.69339843, -0.03332046, -0.00706134, -0.00629786])"
      ]
     },
     "execution_count": 169,
     "metadata": {},
     "output_type": "execute_result"
    }
   ],
   "source": [
    "lagrange2(xp,x,y)"
   ]
  },
  {
   "cell_type": "markdown",
   "metadata": {},
   "source": [
    "ahora miramos y tratamos de encontrar la viscosidad de 110°C con nustra funcion"
   ]
  },
  {
   "cell_type": "code",
   "execution_count": 130,
   "metadata": {},
   "outputs": [
    {
     "data": {
      "text/plain": [
       "56.51204524617833"
      ]
     },
     "execution_count": 130,
     "metadata": {},
     "output_type": "execute_result"
    }
   ],
   "source": [
    "lagrange2(110,x,y)"
   ]
  },
  {
   "cell_type": "markdown",
   "metadata": {},
   "source": [
    "este error nos da es porque como nuestro array x,y solo llega hasta 100, no tiene un punto de referencia por así decirlo para tener el resultado de 110°C, para obtener ese resultado necesitamos que el extremo final de la tabla sea mayor que la de 110°C"
   ]
  },
  {
   "cell_type": "markdown",
   "metadata": {},
   "source": [
    "ahora si le quitamos datos a nuestra tabla nuestras aproximaciones seran menos eficientes, pero si tenemos un mayor número de datos la aproximacion sera mejor"
   ]
  },
  {
   "cell_type": "code",
   "execution_count": 131,
   "metadata": {},
   "outputs": [],
   "source": [
    "z = np.array([1,2,3])\n",
    "c = z**2"
   ]
  },
  {
   "cell_type": "code",
   "execution_count": 167,
   "metadata": {},
   "outputs": [
    {
     "data": {
      "text/plain": [
       "8836.0"
      ]
     },
     "execution_count": 167,
     "metadata": {},
     "output_type": "execute_result"
    }
   ],
   "source": [
    "lagrange2(20,z,c)"
   ]
  },
  {
   "cell_type": "code",
   "execution_count": null,
   "metadata": {},
   "outputs": [],
   "source": []
  }
 ],
 "metadata": {
  "kernelspec": {
   "display_name": "Python 3",
   "language": "python",
   "name": "python3"
  },
  "language_info": {
   "codemirror_mode": {
    "name": "ipython",
    "version": 3
   },
   "file_extension": ".py",
   "mimetype": "text/x-python",
   "name": "python",
   "nbconvert_exporter": "python",
   "pygments_lexer": "ipython3",
   "version": "3.6.4"
  }
 },
 "nbformat": 4,
 "nbformat_minor": 2
}
