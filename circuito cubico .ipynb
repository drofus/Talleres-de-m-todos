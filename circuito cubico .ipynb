{
 "cells": [
  {
   "cell_type": "code",
   "execution_count": 1,
   "metadata": {},
   "outputs": [
    {
     "name": "stdout",
     "output_type": "stream",
     "text": [
      "Populating the interactive namespace from numpy and matplotlib\n"
     ]
    }
   ],
   "source": [
    "import numpy as np\n",
    "import matplotlib.pyplot as plt\n",
    "%pylab inline"
   ]
  },
  {
   "cell_type": "markdown",
   "metadata": {},
   "source": [
    "Mirando los resutados de R=r, osea que estaremos usando $R_{eq}=\\frac{5}{6}R$"
   ]
  },
  {
   "cell_type": "code",
   "execution_count": 2,
   "metadata": {},
   "outputs": [],
   "source": [
    "R=1\n",
    "r=1\n",
    "v=1"
   ]
  },
  {
   "cell_type": "code",
   "execution_count": 3,
   "metadata": {},
   "outputs": [],
   "source": [
    "a = np.array([[1,0,1, 0, 1, 0, 0, 0, 0, 0, 0, 0, -1], [-1, 1, 0, 0, 0, 0, 0, -1, 0, 0, 0, 0, 0], [0, -1, 0, 1, 0, -1, 0, 0, 0, 0, 0, 0, 0], [0, 0, -1, -1, 0, 0, -1, 0, 0, 0, 0, 0, 0], [0, 0, 0, 0, -1, 0, 0, 0, 1, 0, 0, 1, 0], [0, 0, 0, 0, 0, 0, 0, 1, -1, 0, 1, 0, 0], [0, 0, 0, 0, 0, 1, 0, 0, 0, -1, -1, 0, 1], [-R, 0, 0, 0, R, 0, 0, R, R, 0, 0, 0, 0], [0, R, 0, 0, 0, -R, 0, R, 0, 0, -R, 0, 0], [0, 0, 0, -R, 0, -R, R, 0, 0, -R, 0, 0, 0], [0, 0, r, 0, -R, 0, -R, 0, 0, 0, 0, -R, 0], [-R, -R, r, -R, 0, 0, 0, 0, 0, 0, 0, 0, 0], [0, 0, 0, 0, R, 0, 0, 0, R, 0, R, 0, 0]] )\n",
    "b = np.array([0,0,0,0,0,0,0,0,0,0,0,0,v])\n",
    "c = np.linalg.solve(a, b)"
   ]
  },
  {
   "cell_type": "code",
   "execution_count": 4,
   "metadata": {},
   "outputs": [
    {
     "data": {
      "text/plain": [
       "1.2000000000000002"
      ]
     },
     "execution_count": 4,
     "metadata": {},
     "output_type": "execute_result"
    }
   ],
   "source": [
    "c[-1]"
   ]
  },
  {
   "cell_type": "markdown",
   "metadata": {
    "collapsed": true
   },
   "source": [
    "Donde c son los vectores de $I_1,I_2,.....I_{13}.$ donde solo nos importa el $I_{13}$ porque con el usamos la ecuación de $R_{eq}=\\frac{V}{I_{13}}$ pero como estamos mirando los resultados de R=r. Eso quiere decir que $\\frac{V}{I_{13}} = \\frac{5}{6}R$"
   ]
  },
  {
   "cell_type": "code",
   "execution_count": 5,
   "metadata": {},
   "outputs": [
    {
     "name": "stdout",
     "output_type": "stream",
     "text": [
      "v/I_13= 0.8333333333333333\n",
      "(5/6)*R= 0.8333333333333334\n"
     ]
    }
   ],
   "source": [
    "#verificar\n",
    "print(\"v/I_13=\",v/c[-1])\n",
    "print(\"(5/6)*R=\",(5/6)*R)"
   ]
  },
  {
   "cell_type": "markdown",
   "metadata": {},
   "source": [
    "Ahora variando nuestro r para la misma matriz y mirar su $R_{eq}$, en este caso mi $r \\neq R$ para eso se usa esta ecuación $R_{eq}=\\frac{V}{I_{13}}$"
   ]
  },
  {
   "cell_type": "code",
   "execution_count": 6,
   "metadata": {},
   "outputs": [],
   "source": [
    "ri= np.arange(0,10,0.1)\n",
    "Req=[]"
   ]
  },
  {
   "cell_type": "code",
   "execution_count": 7,
   "metadata": {},
   "outputs": [],
   "source": [
    "for i in range(len(ri)):\n",
    "    ai = np.array([[1,0,1, 0, 1, 0, 0, 0, 0, 0, 0, 0, -1], [-1, 1, 0, 0, 0, 0, 0, -1, 0, 0, 0, 0, 0], [0, -1, 0, 1, 0, -1, 0, 0, 0, 0, 0, 0, 0], [0, 0, -1, -1, 0, 0, -1, 0, 0, 0, 0, 0, 0], [0, 0, 0, 0, -1, 0, 0, 0, 1, 0, 0, 1, 0], [0, 0, 0, 0, 0, 0, 0, 1, -1, 0, 1, 0, 0], [0, 0, 0, 0, 0, 1, 0, 0, 0, -1, -1, 0, 1], [-R, 0, 0, 0, R, 0, 0, R, R, 0, 0, 0, 0], [0, R, 0, 0, 0, -R, 0, R, 0, 0, -R, 0, 0], [0, 0, 0, -R, 0, -R, R, 0, 0, -R, 0, 0, 0], [0, 0, ri[i], 0, -R, 0, -R, 0, 0, 0, 0, -R, 0], [-R, -R, ri[i], -R, 0, 0, 0, 0, 0, 0, 0, 0, 0], [0, 0, 0, 0, R, 0, 0, 0, R, 0, R, 0, 0]] )\n",
    "    bi = np.array([0,0,0,0,0,0,0,0,0,0,0,0,v])\n",
    "    ci = np.linalg.solve(ai, bi)\n",
    "    Req.append(v/ci[-1])"
   ]
  },
  {
   "cell_type": "code",
   "execution_count": 8,
   "metadata": {},
   "outputs": [
    {
     "name": "stdout",
     "output_type": "stream",
     "text": [
      "resistencia equivalente con r variando [0.6428571428571429, 0.6733333333333335, 0.7000000000000001, 0.7235294117647058, 0.7444444444444447, 0.7631578947368421, 0.7800000000000002, 0.7952380952380953, 0.809090909090909, 0.8217391304347825, 0.8333333333333333, 0.8439999999999999, 0.853846153846154, 0.8629629629629629, 0.8714285714285717, 0.8793103448275861, 0.8866666666666668, 0.8935483870967743, 0.8999999999999998, 0.9060606060606061, 0.9117647058823531, 0.917142857142857, 0.922222222222222, 0.9270270270270272, 0.9315789473684212, 0.9358974358974359, 0.9400000000000001, 0.9439024390243902, 0.9476190476190475, 0.9511627906976744, 0.9545454545454543, 0.9577777777777778, 0.9608695652173912, 0.9638297872340423, 0.9666666666666666, 0.9693877551020409, 0.972, 0.9745098039215684, 0.976923076923077, 0.9792452830188677, 0.9814814814814815, 0.9836363636363639, 0.9857142857142859, 0.9877192982456141, 0.9896551724137934, 0.9915254237288138, 0.9933333333333334, 0.9950819672131146, 0.996774193548387, 0.9984126984126985, 0.9999999999999998, 1.0015384615384617, 1.003030303030303, 1.0044776119402987, 1.005882352941177, 1.0072463768115945, 1.0085714285714285, 1.0098591549295775, 1.0111111111111113, 1.012328767123288, 1.0135135135135136, 1.0146666666666668, 1.0157894736842104, 1.0168831168831167, 1.0179487179487183, 1.018987341772152, 1.0199999999999998, 1.0209876543209877, 1.021951219512195, 1.0228915662650602, 1.0238095238095237, 1.0247058823529416, 1.0255813953488375, 1.0264367816091955, 1.0272727272727276, 1.0280898876404494, 1.0288888888888892, 1.0296703296703291, 1.0304347826086953, 1.0311827956989248, 1.031914893617021, 1.0326315789473683, 1.0333333333333332, 1.0340206185567014, 1.0346938775510208, 1.0353535353535355, 1.0360000000000003, 1.0366336633663364, 1.0372549019607842, 1.037864077669903, 1.0384615384615385, 1.039047619047619, 1.039622641509434, 1.0401869158878505, 1.0407407407407407, 1.0412844036697253, 1.0418181818181815, 1.0423423423423424, 1.0428571428571431, 1.043362831858407]\n"
     ]
    }
   ],
   "source": [
    "print(\"resistencia equivalente con r variando\",Req)"
   ]
  },
  {
   "cell_type": "markdown",
   "metadata": {},
   "source": [
    "Como podemos observar nuestra resistencia equivalente es directamente proporcional con r, a medida que nuestro r aumenta la resistencia equivalente también aumenta."
   ]
  },
  {
   "cell_type": "markdown",
   "metadata": {},
   "source": [
    "# Gráfica de $R_{eq}$ vs $r$"
   ]
  },
  {
   "cell_type": "code",
   "execution_count": 9,
   "metadata": {},
   "outputs": [
    {
     "data": {
      "text/plain": [
       "[<matplotlib.lines.Line2D at 0x7f75555e6b70>]"
      ]
     },
     "execution_count": 9,
     "metadata": {},
     "output_type": "execute_result"
    },
    {
     "data": {
      "image/png": "[encoded data removed]",
      "text/plain": [
       "<Figure size 432x288 with 1 Axes>"
      ]
     },
     "metadata": {},
     "output_type": "display_data"
    }
   ],
   "source": [
    "plt.plot(ri,Req)"
   ]
  },
  {
   "cell_type": "markdown",
   "metadata": {},
   "source": [
    "Con la gráfica se ve con más detalle que r aumenta y $R_{eq}$ también aumenta"
   ]
  },
  {
   "cell_type": "code",
   "execution_count": 10,
   "metadata": {},
   "outputs": [
    {
     "data": {
      "text/plain": [
       "<matplotlib.legend.Legend at 0x7f7555505ac8>"
      ]
     },
     "execution_count": 10,
     "metadata": {},
     "output_type": "execute_result"
    },
    {
     "data": {
      "image/png": "[encoded data removed]",
      "text/plain": [
       "<Figure size 432x288 with 1 Axes>"
      ]
     },
     "metadata": {},
     "output_type": "display_data"
    }
   ],
   "source": [
    "plt.plot(ri,Req)\n",
    "plt.plot(1,v/c[-1],'ro',label='Req cuando R=r')\n",
    "plt.xlabel(\"r (ohms)\")\n",
    "plt.ylabel(\"Req (ohms)\")\n",
    "plt.grid()\n",
    "plt.legend()"
   ]
  },
  {
   "cell_type": "markdown",
   "metadata": {},
   "source": [
    "Aquí podemos ver el punto de cuando r toma el mismo valor que R en la gráfica."
   ]
  },
  {
   "cell_type": "code",
   "execution_count": null,
   "metadata": {},
   "outputs": [],
   "source": []
  }
 ],
 "metadata": {
  "kernelspec": {
   "display_name": "Python 3",
   "language": "python",
   "name": "python3"
  },
  "language_info": {
   "codemirror_mode": {
    "name": "ipython",
    "version": 3
   },
   "file_extension": ".py",
   "mimetype": "text/x-python",
   "name": "python",
   "nbconvert_exporter": "python",
   "pygments_lexer": "ipython3",
   "version": "3.6.4"
  }
 },
 "nbformat": 4,
 "nbformat_minor": 2
}
