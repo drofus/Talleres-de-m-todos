{
 "cells": [
  {
   "cell_type": "code",
   "execution_count": 1,
   "metadata": {},
   "outputs": [
    {
     "name": "stdout",
     "output_type": "stream",
     "text": [
      "Populating the interactive namespace from numpy and matplotlib\n"
     ]
    }
   ],
   "source": [
    "import numpy as np\n",
    "import matplotlib.pyplot as plt\n",
    "%pylab inline"
   ]
  },
  {
   "cell_type": "code",
   "execution_count": 2,
   "metadata": {},
   "outputs": [],
   "source": [
    "#Primero se define la funcion\n",
    "y = 5/3\n",
    "n = 0.3 \n",
    "\n",
    "x = np.linspace(0.1,10,500) #este linspace se hace para usarlo en la otra casilla y poder graficar\n",
    "\n",
    "def f(x):\n",
    "    return ((np.log(x))-(1-(1/x)))/((np.log(x))+((1-(1/x))/(y-1)))-n"
   ]
  },
  {
   "cell_type": "code",
   "execution_count": 3,
   "metadata": {},
   "outputs": [
    {
     "data": {
      "text/plain": [
       "[<matplotlib.lines.Line2D at 0x7fb8147e07f0>]"
      ]
     },
     "execution_count": 3,
     "metadata": {},
     "output_type": "execute_result"
    },
    {
     "data": {
      "image/png": "[encoded data removed]",
      "text/plain": [
       "<matplotlib.figure.Figure at 0x7fb8155b4f28>"
      ]
     },
     "metadata": {},
     "output_type": "display_data"
    }
   ],
   "source": [
    "#Luego se gráfica la funcion para mirar como se comporta\n",
    "plt.plot(x,f(x))"
   ]
  },
  {
   "cell_type": "code",
   "execution_count": 4,
   "metadata": {},
   "outputs": [],
   "source": [
    "#aquí dervia,os la funcion\n",
    "def df(x):\n",
    "    return (10*(x-np.log(x)-1))/((2*x*np.log(x))+(3*(x-1)))**2"
   ]
  },
  {
   "cell_type": "code",
   "execution_count": 5,
   "metadata": {},
   "outputs": [],
   "source": [
    "#como se pidio en el trabajo, se mira si se puede usar el metodo de biseccion y vemos que si se puede usar.\n",
    "def dx(f,x):\n",
    "    return abs(0-f(x))\n",
    "\n",
    "def bisec(f,a,b,tol,Nmax=500):\n",
    "    n = 0\n",
    "    \n",
    "    p = dx(f,b)\n",
    "\n",
    "    while True:\n",
    "        \n",
    "        pm = (a+b)*0.5\n",
    "        \n",
    "    \n",
    "        if abs(f(pm)) < tol:\n",
    "            break\n",
    "        \n",
    "        n += 1\n",
    "        \n",
    "        if n > Nmax:\n",
    "            print (\"Nmax iter max reached\")\n",
    "            break\n",
    "    \n",
    "        if f(a)*f(pm) < 0:\n",
    "            b = pm\n",
    "        \n",
    "        if f(a)*f(pm) > 0:\n",
    "            a = pm\n",
    "    return print(\"Usando el metodo de biseccion la raíz es:\",pm)  #se imprime el resultado"
   ]
  },
  {
   "cell_type": "code",
   "execution_count": 6,
   "metadata": {},
   "outputs": [],
   "source": [
    "#en esta casilla se aplicara el metodo de Newton-Raphson\n",
    "\n",
    "def newtonR(f,df,x0,tol,Nmax=500):\n",
    "    \n",
    "    p = dx(f,x0)\n",
    "    \n",
    "    n = 0\n",
    "    while True:\n",
    "        \n",
    "        x0 = x0 - (f(x0))/(df(x0))\n",
    "        #p = dx(f,x0)\n",
    "        if n > Nmax:\n",
    "            print (\"Nmax iter max reached\")\n",
    "            break\n",
    "        n += 1\n",
    "        if abs(f(x0)) < tol:\n",
    "            break\n",
    "    \n",
    "    return x0"
   ]
  },
  {
   "cell_type": "markdown",
   "metadata": {},
   "source": [
    "usaremos como limites para la biseccion de 2.5 a 6, ya que tienen un cambio de signo y me asegura que hay un cero"
   ]
  },
  {
   "cell_type": "code",
   "execution_count": 7,
   "metadata": {},
   "outputs": [
    {
     "name": "stdout",
     "output_type": "stream",
     "text": [
      "Usando el metodo de biseccion la raíz es: 5.412109375\n"
     ]
    }
   ],
   "source": [
    "bisec(f,2.5,6,1e-4)"
   ]
  },
  {
   "cell_type": "code",
   "execution_count": 8,
   "metadata": {},
   "outputs": [
    {
     "name": "stdout",
     "output_type": "stream",
     "text": [
      "Newton-Raphson 5.40967504168603\n"
     ]
    }
   ],
   "source": [
    "print(\"Newton-Raphson\", newtonR(f,df,2.5,1e-4))"
   ]
  },
  {
   "cell_type": "markdown",
   "metadata": {},
   "source": [
    "Se observa que los metodos se aplicaron bien y tiene coherencia los resultados, obviamente el de Newton-Raphson sera un poco más exacto que la del metodo de biseccion"
   ]
  },
  {
   "cell_type": "code",
   "execution_count": null,
   "metadata": {},
   "outputs": [],
   "source": []
  }
 ],
 "metadata": {
  "kernelspec": {
   "display_name": "Python 3",
   "language": "python",
   "name": "python3"
  },
  "language_info": {
   "codemirror_mode": {
    "name": "ipython",
    "version": 3
   },
   "file_extension": ".py",
   "mimetype": "text/x-python",
   "name": "python",
   "nbconvert_exporter": "python",
   "pygments_lexer": "ipython3",
   "version": "3.6.4"
  }
 },
 "nbformat": 4,
 "nbformat_minor": 2
}
