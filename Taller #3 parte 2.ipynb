{
 "cells": [
  {
   "cell_type": "code",
   "execution_count": 1,
   "metadata": {},
   "outputs": [
    {
     "name": "stdout",
     "output_type": "stream",
     "text": [
      "Populating the interactive namespace from numpy and matplotlib\n"
     ]
    },
    {
     "name": "stderr",
     "output_type": "stream",
     "text": [
      "/home/ssy/anaconda3/lib/python3.6/site-packages/IPython/core/magics/pylab.py:160: UserWarning: pylab import has clobbered these variables: ['plt']\n",
      "`%matplotlib` prevents importing * from pylab and numpy\n",
      "  \"\\n`%matplotlib` prevents importing * from pylab and numpy\"\n"
     ]
    }
   ],
   "source": [
    "import numpy as np\n",
    "import matplotlib.pylab as plt\n",
    "%pylab inline"
   ]
  },
  {
   "cell_type": "code",
   "execution_count": 2,
   "metadata": {},
   "outputs": [],
   "source": [
    "#constantes\n",
    "Q = 1.2\n",
    "g = 9.81\n",
    "b = 1.8\n",
    "h_0 = 0.6 \n",
    "H = 0.075\n",
    "\n",
    "def f(h):\n",
    "    return (Q**2)/(2*g*(b**2)*(h_0**2)) + h_0 - (Q**2)/(2*g*(b**2)*(h**2)) - h - H\n",
    "\n",
    "h = np.linspace(0,1,100) #se hace un linspace para ver más o menos como se comporta la func."
   ]
  },
  {
   "cell_type": "code",
   "execution_count": 3,
   "metadata": {},
   "outputs": [
    {
     "name": "stderr",
     "output_type": "stream",
     "text": [
      "/home/ssy/anaconda3/lib/python3.6/site-packages/ipykernel_launcher.py:9: RuntimeWarning: divide by zero encountered in true_divide\n",
      "  if __name__ == '__main__':\n"
     ]
    },
    {
     "data": {
      "text/plain": [
       "[<matplotlib.lines.Line2D at 0x7f1f95db6048>]"
      ]
     },
     "execution_count": 3,
     "metadata": {},
     "output_type": "execute_result"
    },
    {
     "data": {
      "image/png": "[encoded data removed]",
      "text/plain": [
       "<matplotlib.figure.Figure at 0x7f1f97dd8be0>"
      ]
     },
     "metadata": {},
     "output_type": "display_data"
    }
   ],
   "source": [
    "plt.plot(h,f(h))"
   ]
  },
  {
   "cell_type": "markdown",
   "metadata": {},
   "source": [
    "Se puede observar en la gráfica que no se puede usar el metodo de biseccion, porque no se ve claramente los posibles limites de la funcion. Se usara para esta funcion Newton-Raphson y Secante."
   ]
  },
  {
   "cell_type": "code",
   "execution_count": 5,
   "metadata": {},
   "outputs": [
    {
     "name": "stdout",
     "output_type": "stream",
     "text": [
      "En la funcion: 0.49590097599869987 es la que más se acerca\n"
     ]
    }
   ],
   "source": [
    "#Newton-Raphson\n",
    "def df(h):\n",
    "    return ((Q**2)/((b**2)*g*(h**3)))-2\n",
    "\n",
    "def dx(f,h):\n",
    "    return abs(0-f(h))\n",
    "\n",
    "def newtonR(f,df,h0,tol,Nmax=500):\n",
    "    \n",
    "    p = dx(f,h0)\n",
    "    \n",
    "    n = 0\n",
    "    while True:\n",
    "        \n",
    "        h0 = h0 - (f(h0))/(df(h0))\n",
    "        #p = dx(f,x0)\n",
    "        if n > Nmax:\n",
    "            print (\"Nmax iter max reached\")\n",
    "            break\n",
    "        n += 1\n",
    "        if abs(f(h0)) < tol:\n",
    "            break\n",
    "    \n",
    "    return h0\n",
    "\n",
    "print(\"En la funcion:\",newtonR(f,df,3/4.,1e-4),\"es la que más se acerca\")"
   ]
  },
  {
   "cell_type": "code",
   "execution_count": 6,
   "metadata": {},
   "outputs": [],
   "source": [
    "#Secante\n",
    "def sec(f,x0,x1,tol,Nmax=500):\n",
    "    \n",
    "    n = 0\n",
    "    \n",
    "    p = dx(f,x1)\n",
    "    \n",
    "    while True:\n",
    "        \n",
    "        xi = x1 - f(x1)*((x1-x0)/(f(x1)-f(x0)))\n",
    "        \n",
    "        if n > Nmax:\n",
    "            print(\"Nmax iter reached\")\n",
    "            break\n",
    "        \n",
    "        n += 1\n",
    "        \n",
    "        if abs(f(xi)) < tol:\n",
    "            break\n",
    "            \n",
    "    return xi"
   ]
  },
  {
   "cell_type": "code",
   "execution_count": 13,
   "metadata": {},
   "outputs": [
    {
     "name": "stdout",
     "output_type": "stream",
     "text": [
      "Nmax iter reached\n",
      "Para la secante esta es en la funcion: 0.5608500400452576\n"
     ]
    }
   ],
   "source": [
    "print(\"Para la secante esta es en la funcion:\",sec(f,1,3,1e-4))"
   ]
  },
  {
   "cell_type": "code",
   "execution_count": null,
   "metadata": {},
   "outputs": [],
   "source": []
  }
 ],
 "metadata": {
  "kernelspec": {
   "display_name": "Python 3",
   "language": "python",
   "name": "python3"
  },
  "language_info": {
   "codemirror_mode": {
    "name": "ipython",
    "version": 3
   },
   "file_extension": ".py",
   "mimetype": "text/x-python",
   "name": "python",
   "nbconvert_exporter": "python",
   "pygments_lexer": "ipython3",
   "version": "3.6.4"
  }
 },
 "nbformat": 4,
 "nbformat_minor": 2
}
