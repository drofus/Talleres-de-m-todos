{
 "cells": [
  {
   "cell_type": "code",
   "execution_count": 1,
   "metadata": {},
   "outputs": [],
   "source": [
    "import numpy as np"
   ]
  },
  {
   "cell_type": "markdown",
   "metadata": {},
   "source": [
    "Halle las raíces de la expresión:\n",
    "$x^{2} + 62.10x + 1 = 0$\n",
    "usando las expresiones del \"http://nbviewer.jupyter.org/github/NATYML/Comput_meth-hom/blob/master/task02_1702.ipynb\"\n",
    "\n",
    "si las raices de la expresion son $x_{1} = -0.01610723$ y $x_{2} = -62.08390$ ¿cuál valor se aproxima más a la raíz real? entre f1 y f3. Tambien para f2 y f4.\n",
    "\n",
    "usar la variable tipo float 16"
   ]
  },
  {
   "cell_type": "code",
   "execution_count": 5,
   "metadata": {},
   "outputs": [],
   "source": [
    "def f1(a,b,c):\n",
    "    return np.float16((-b+np.sqrt((b**2)-4*a*c))/(2*a))\n",
    "\n",
    "def f2(a,b,c):\n",
    "    return np.float16((-b-np.sqrt((b**2)-4*a*c))/(2*a))\n",
    "\n",
    "def f3(a,b,c):\n",
    "    return np.float16((-2*c)/(b+np.sqrt((b**2)-4*a*c)))\n",
    "\n",
    "def f4(a,b,c):\n",
    "    return np.float16((-2*c)/(b-np.sqrt((b**2)-4*a*c)))"
   ]
  },
  {
   "cell_type": "code",
   "execution_count": 6,
   "metadata": {},
   "outputs": [
    {
     "name": "stdout",
     "output_type": "stream",
     "text": [
      "primer resultado -0.01611\n",
      "segundo resultado -62.1\n",
      "tercer resultado -0.01611\n",
      "cuarto resultado -62.1\n"
     ]
    }
   ],
   "source": [
    "print(\"primer resultado\", f1(1,62.10,1))\n",
    "print(\"segundo resultado\", f2(1,62.10,1))\n",
    "print(\"tercer resultado\", f3(1,62.10,1))\n",
    "print(\"cuarto resultado\", f4 (1,62.10,1))"
   ]
  },
  {
   "cell_type": "markdown",
   "metadata": {},
   "source": [
    "# Explicación\n",
    "primero debemos de tener muy en cuenta como el computador tiene encuenta los valores significativos, como mantiene el margen de error, etc.\n",
    "\n",
    "En este caso que estamos trabajando con floats 16 (valores significativos muy pequeños), mientras que el programa ya está trabajando en float 64 él debe de recortar los valores significativos.....¿como?.....dependiendo de las ecuaciones que trabajemos.\n",
    "\n",
    "En este caso vemos que para f1 y f3 al igual que f2 y f4. los resultados son iguales, eso se debe a que no hubo mucha diferencia en las ecuaciones(algo raro o una division algo más larga), recordemos que el computador genera un error más alto en la parte de las divisiones. Pero en este caso ninguno tiene resultados con mucha diferencia."
   ]
  },
  {
   "cell_type": "code",
   "execution_count": null,
   "metadata": {},
   "outputs": [],
   "source": []
  }
 ],
 "metadata": {
  "kernelspec": {
   "display_name": "Python 3",
   "language": "python",
   "name": "python3"
  },
  "language_info": {
   "codemirror_mode": {
    "name": "ipython",
    "version": 3
   },
   "file_extension": ".py",
   "mimetype": "text/x-python",
   "name": "python",
   "nbconvert_exporter": "python",
   "pygments_lexer": "ipython3",
   "version": "3.6.4"
  }
 },
 "nbformat": 4,
 "nbformat_minor": 2
}
