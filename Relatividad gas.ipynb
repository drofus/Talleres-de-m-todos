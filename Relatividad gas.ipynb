{
 "cells": [
  {
   "cell_type": "code",
   "execution_count": 1,
   "metadata": {},
   "outputs": [
    {
     "name": "stdout",
     "output_type": "stream",
     "text": [
      "Populating the interactive namespace from numpy and matplotlib\n"
     ]
    }
   ],
   "source": [
    "import numpy as np\n",
    "import matplotlib.pyplot as plt\n",
    "%pylab inline"
   ]
  },
  {
   "cell_type": "code",
   "execution_count": 47,
   "metadata": {
    "collapsed": true
   },
   "outputs": [],
   "source": [
    "#Metodo de la recta falsa\n",
    "def dx(f,x):\n",
    "    return abs(0-f(x))\n",
    "\n",
    "def MetRectFalsa(f,x0,x1,tol,Nmax=500):\n",
    "    n = 0\n",
    "    \n",
    "    p = dx(f,x1)\n",
    "    while True:\n",
    "        \n",
    "        xr = x1 - (f(x1)*(x0-x1))/(f(x0)-f(x1))\n",
    "        \n",
    "        if n > Nmax:\n",
    "            print(\"Nmax iter reached\")\n",
    "            break\n",
    "            \n",
    "        n +=1\n",
    "        \n",
    "        if abs(f(xr)) < tol:\n",
    "            break\n",
    "            \n",
    "        if f(xr)*f(x1) > 0:\n",
    "            print(\"La raíz esta en el intervalo\",[xr,x0])\n",
    "            break\n",
    "            \n",
    "        if f(xr)*f(x1) < 0:\n",
    "            print (\"la raíz esta en el intervalo\",[x0,xr])\n",
    "            break\n",
    "            \n",
    "        if f(xr)*f(x1) == 0:\n",
    "            print (\"la raíz es\",x1)\n",
    "            break\n",
    "            \n",
    "    return xr"
   ]
  },
  {
   "cell_type": "code",
   "execution_count": 48,
   "metadata": {},
   "outputs": [],
   "source": [
    "a = 0.5\n",
    "\n",
    "def f(y):\n",
    "    return (a-1)*(y**4) + y**2 "
   ]
  },
  {
   "cell_type": "code",
   "execution_count": 49,
   "metadata": {},
   "outputs": [
    {
     "data": {
      "text/plain": [
       "[<matplotlib.lines.Line2D at 0x7f1098387048>]"
      ]
     },
     "execution_count": 49,
     "metadata": {},
     "output_type": "execute_result"
    },
    {
     "data": {
      "image/png": "[encoded data removed]",
      "text/plain": [
       "<matplotlib.figure.Figure at 0x7f10983ecfd0>"
      ]
     },
     "metadata": {},
     "output_type": "display_data"
    }
   ],
   "source": [
    "x = np.linspace(-4,4,100)\n",
    "plt.ylim(-30,5)\n",
    "plt.plot(x,f(x))"
   ]
  },
  {
   "cell_type": "code",
   "execution_count": 53,
   "metadata": {},
   "outputs": [
    {
     "name": "stdout",
     "output_type": "stream",
     "text": [
      "la raíz esta en el intervalo [-1, 1.6666666666666667]\n"
     ]
    },
    {
     "data": {
      "text/plain": [
       "1.6666666666666667"
      ]
     },
     "execution_count": 53,
     "metadata": {},
     "output_type": "execute_result"
    }
   ],
   "source": [
    "MetRectFalsa(f,-1,0.5,1e-4) #siendo -1 y 0.5 los intervalos que yo veo que se acercan mas al cero"
   ]
  },
  {
   "cell_type": "markdown",
   "metadata": {},
   "source": [
    "# Explicacion fisica\n",
    "\n",
    "Es obvio que se debe tomar el valor positivo de la raiz ya que $y = \\frac{1}{\\sqrt{(1-\\frac{v^2}{c^2}})}$ Siendo v la velocidad de atraccion que tiene el agujero negro con el gas y c siendo la velocidad de la luz. por simple logica de calculo y fisico sabemos que no puede v = c, ya que esto daria un division entre 0, la cual eso no existe y nos daria una solucion infinita. si mi v > c eso es imposible porque no hay nada mas veloz que la luz. y si mi v < c tiene sentido y hace que mi resta me de positivo, eso tiene sentido matematico y sentido fisico. eso por eso que la raiz que se escoge con el metodo de la recta falsa es positiva (aunque tenga unos intervalos negativos se tienen encuenta los positivos para este problema)"
   ]
  },
  {
   "cell_type": "code",
   "execution_count": null,
   "metadata": {
    "collapsed": true
   },
   "outputs": [],
   "source": []
  }
 ],
 "metadata": {
  "kernelspec": {
   "display_name": "Python 3",
   "language": "python",
   "name": "python3"
  },
  "language_info": {
   "codemirror_mode": {
    "name": "ipython",
    "version": 3
   },
   "file_extension": ".py",
   "mimetype": "text/x-python",
   "name": "python",
   "nbconvert_exporter": "python",
   "pygments_lexer": "ipython3",
   "version": "3.6.4"
  }
 },
 "nbformat": 4,
 "nbformat_minor": 2
}
