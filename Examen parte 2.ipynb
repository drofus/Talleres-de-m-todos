{
 "cells": [
  {
   "cell_type": "code",
   "execution_count": 4,
   "metadata": {},
   "outputs": [
    {
     "name": "stdout",
     "output_type": "stream",
     "text": [
      "Populating the interactive namespace from numpy and matplotlib\n"
     ]
    }
   ],
   "source": [
    "import numpy as np\n",
    "import matplotlib.pyplot as plt\n",
    "%pylab inline"
   ]
  },
  {
   "cell_type": "code",
   "execution_count": 5,
   "metadata": {},
   "outputs": [],
   "source": [
    "#definimos la funcion\n",
    "def f(z):\n",
    "    return (z**3)-1"
   ]
  },
  {
   "cell_type": "code",
   "execution_count": 6,
   "metadata": {},
   "outputs": [],
   "source": [
    "#derivada para aplicar Newton-Raphson\n",
    "def df(z):\n",
    "    return 3*(z**2)"
   ]
  },
  {
   "cell_type": "code",
   "execution_count": 7,
   "metadata": {},
   "outputs": [],
   "source": [
    "def dx(f,x):\n",
    "    return abs(0-f(x))\n",
    "\n",
    "#Metodo de Newton-Raphson\n",
    "def newtonR(f,df,x0,tol,Nmax=500):\n",
    "    \n",
    "    p = dx(f,x0)\n",
    "    \n",
    "    n = 0\n",
    "    while True:\n",
    "        \n",
    "        x0 = x0 - (f(x0))/(df(x0))\n",
    "        #p = dx(f,x0)\n",
    "        if n > Nmax:\n",
    "            print (\"Nmax iter max reached\")\n",
    "            break\n",
    "        n += 1\n",
    "        if abs(f(x0)) < tol:\n",
    "            break\n",
    "    \n",
    "    return x0"
   ]
  },
  {
   "cell_type": "code",
   "execution_count": 55,
   "metadata": {},
   "outputs": [
    {
     "data": {
      "text/plain": [
       "(-0.49999999628902975+0.8660253983385868j)"
      ]
     },
     "execution_count": 55,
     "metadata": {},
     "output_type": "execute_result"
    }
   ],
   "source": [
    "newtonR(f,df,1j,1e-4)#metodo que yo uso normalmente"
   ]
  },
  {
   "cell_type": "code",
   "execution_count": 56,
   "metadata": {},
   "outputs": [
    {
     "data": {
      "text/plain": [
       "(-0.49999999628902975+0.8660253983385868j)"
      ]
     },
     "execution_count": 56,
     "metadata": {},
     "output_type": "execute_result"
    }
   ],
   "source": [
    "from scipy import optimize as op\n",
    "op.newton(f, x0=0+1j, fprime=df, tol=1e-4) #usando el metodo con scipy"
   ]
  },
  {
   "cell_type": "markdown",
   "metadata": {},
   "source": [
    "# Explicación\n",
    "\n",
    "Para resolver este punto debemos de hacer el metodo de Newton-Raphson por separa....se debe hacer para la parte real y la parte imaginaria en donde: $x_{n+1} = x_{n}-\\frac{f(x_{n})}{f'(x_{n})}$ y $y_{n+1} = y_{n}-\\frac{f(y_{n})}{f'(y_{n})}$ donde $x$ es la parte real y $y$ la parte imaginaria de la función. Ahora vemos que la funcíon es $z^{3}-1=0$, donde es se nota que si reemplazamos $z = \\sqrt[3]{-1}$ eso quiere decir que me puede dar un imaginario (sabemos que solo los imaginarios se le pueden sacar raices negativas)....de este modo si aplicamos newton raphson el programa debe de darse cuenta que la funcion tiene (o almenos puede tener) resultado imaginario.\n",
    "en el caso anterior podemos ver la funcion de la siguiente manera $ax^3+bx^2+cx+d=0$, mirandose como una ecuacion cubica...entonces ¿como se podria solucionar esto?, facil poniendo condicionales en donde $\\frac{-b\\pm\\sqrt{b^{2}-4ac}}{2a}$ donde si $\\sqrt{b^{2}-4ac} > 0$ no pasa nada...quiere decir que la funcion es Real...pero si pasa $\\sqrt{b^{2}-4ac} < 0$ eso quiere decir que tiene imaginarios....de esta manera se le hace el mismo algoritmo y nos mostrara la parte de la raíz imaginaria de la funcion."
   ]
  },
  {
   "cell_type": "code",
   "execution_count": 60,
   "metadata": {},
   "outputs": [],
   "source": [
    "#mirar la funcion de forma general\n",
    "def f2(a,b,c,d,z):\n",
    "    return a*z**3+b*z**2+c*z+d "
   ]
  },
  {
   "cell_type": "code",
   "execution_count": 71,
   "metadata": {},
   "outputs": [],
   "source": [
    "#Metodo de N-R para esta funcion\n",
    "def NR(tol,Nmax=500):\n",
    "    a = float(input(\"a = \"))\n",
    "    b = float(input(\"b = \"))\n",
    "    c = float(input(\"c = \"))\n",
    "    d = float(input(\"d = \"))\n",
    "    \n",
    "    print(a,\"z^3\",'+',b,\"z^2\",'+',c,\"z\",d,\"=0\")\n",
    "    n = 0\n",
    "    z = 0.01\n",
    "    \n",
    "    while abs(f2(a,b,c,d,z)) > tol and n < Nmax:\n",
    "        n +=1\n",
    "        \n",
    "        if 3*a*z**2+2*b*z+c==0:\n",
    "            z=z+0.001\n",
    "        z=z-f2(a,b,c,d,z)/(3*a*z**2+2*b*z+c)\n",
    "        \n",
    "    if n < Nmax:\n",
    "        if  d==0:  \n",
    "            a1=a\n",
    "            b1=b\n",
    "            c1=c\n",
    "            d1=d\n",
    "            z=0\n",
    "        else:\n",
    "            c1=-d/z\n",
    "            a1=a\n",
    "            b1=(c1-c)/z\n",
    "        if b1**2-4*a1*c1<0:\n",
    "            realz=-b1/(2*a1) #parte real\n",
    "            imagz=np.sqrt(4*a1*c1-(b1**2))/(2*a1) #parte imaginaria\n",
    "            if a1>0:\n",
    "                z2=str(realz)+'+'+str(imagz)+'i'\n",
    "                z3=str(realz)+'-'+str(imagz)+'i'\n",
    "            if a1<0:\n",
    "                z2=str(realz)+'+'+str(-imagz)+'i'\n",
    "                z3=str(realz)+'-'+str(-imagz)+'i'                \n",
    "        if abs(b1**2-4*a1*c1) < tol:\n",
    "            z2=-b1/(2*a1)\n",
    "            z3=None\n",
    "        if b1**2-4*a1*c1 > tol:\n",
    "            z2=(-b1+np.sqrt(b1**2-4*a1*c1))/2*a1\n",
    "            z3=(-b1-np.sqrt(b1**2-4*a1*c1))/2*a1\n",
    "        print(\"La raiz es\",z,'y teniendo en cuenta sus partes complejas',z2,'y',z3)\n",
    "        print(\"Iteraciones\",n)\n",
    "    else:\n",
    "        print(\"Nmax iter max reached\")\n",
    "        print(\"Iteraciones:\",n,\"La raíz es\",z)"
   ]
  },
  {
   "cell_type": "code",
   "execution_count": 73,
   "metadata": {},
   "outputs": [
    {
     "name": "stdout",
     "output_type": "stream",
     "text": [
      "a = 1\n",
      "b = 0\n",
      "c = 0\n",
      "d = -1\n",
      "1.0 z^3 + 0.0 z^2 + 0.0 z -1.0 =0\n",
      "La raiz es 1.0000007288621902 y teniendo en cuenta sus partes complejas -0.4999992711386067+0.8660254037839785i y -0.4999992711386067-0.8660254037839785i\n",
      "Iteraciones 24\n"
     ]
    }
   ],
   "source": [
    "NR(1e-4)"
   ]
  },
  {
   "cell_type": "code",
   "execution_count": 76,
   "metadata": {},
   "outputs": [
    {
     "data": {
      "text/plain": [
       "(-1.9715193255720465e-08-1.4726058150671406e-09j)"
      ]
     },
     "execution_count": 76,
     "metadata": {},
     "output_type": "execute_result"
    }
   ],
   "source": [
    "f(-0.49999999628902975+0.8660253983385868j)"
   ]
  },
  {
   "cell_type": "markdown",
   "metadata": {},
   "source": [
    "# Pequeña conclusion\n",
    "\n",
    "como se puede ver usando el metodo que normalmente uso da la misma raíz que usando scipy y que el metodo para la funcion.....eso quiere decir que python por si solo ya separa (o almenos hace individualmente) la parte imaginaria y la parte real de cualquier funcion...al final la raíz encontrada para la funcion $z^{3}-1=0$ es $-0.49999999628902975+0.8660253983385868i$"
   ]
  },
  {
   "cell_type": "code",
   "execution_count": null,
   "metadata": {},
   "outputs": [],
   "source": []
  }
 ],
 "metadata": {
  "kernelspec": {
   "display_name": "Python 3",
   "language": "python",
   "name": "python3"
  },
  "language_info": {
   "codemirror_mode": {
    "name": "ipython",
    "version": 3
   },
   "file_extension": ".py",
   "mimetype": "text/x-python",
   "name": "python",
   "nbconvert_exporter": "python",
   "pygments_lexer": "ipython3",
   "version": "3.6.4"
  }
 },
 "nbformat": 4,
 "nbformat_minor": 2
}
